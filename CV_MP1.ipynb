{
 "cells": [
  {
   "cell_type": "markdown",
   "metadata": {},
   "source": [
    "# Common imports"
   ]
  },
  {
   "cell_type": "code",
   "execution_count": 2,
   "metadata": {},
   "outputs": [],
   "source": [
    "%matplotlib inline\n",
    "import os\n",
    "import sys\n",
    "import glob\n",
    "import re\n",
    "import numpy as np\n",
    "import matplotlib\n",
    "import matplotlib.pyplot as plt\n",
    "from mpl_toolkits.mplot3d import Axes3D\n",
    "from PIL import Image"
   ]
  },
  {
   "cell_type": "markdown",
   "metadata": {},
   "source": [
    "# Provided functions\n",
    "### Image loading and saving"
   ]
  },
  {
   "cell_type": "code",
   "execution_count": 3,
   "metadata": {},
   "outputs": [],
   "source": [
    "def LoadFaceImages(pathname, subject_name, num_images):\n",
    "    \"\"\"\n",
    "    Load the set of face images.  \n",
    "    The routine returns\n",
    "        ambimage: image illuminated under the ambient lighting\n",
    "        imarray: a 3-D array of images, h x w x Nimages\n",
    "        lightdirs: Nimages x 3 array of light source directions\n",
    "    \"\"\"\n",
    "    \n",
    "    def load_image(fname):\n",
    "        return np.asarray(Image.open(fname))\n",
    "\n",
    "    def fname_to_ang(fname):\n",
    "        yale_name = os.path.basename(fname)\n",
    "        return int(yale_name[12:16]), int(yale_name[17:20])\n",
    "\n",
    "    def sph2cart(az, el, r):\n",
    "        rcos_theta = r * np.cos(el)\n",
    "        x = rcos_theta * np.cos(az)\n",
    "        y = rcos_theta * np.sin(az)\n",
    "        z = r * np.sin(el)\n",
    "        return x, y, z\n",
    "\n",
    "    ambimage = load_image(\n",
    "        os.path.join(pathname, subject_name + '_P00_Ambient.pgm'))\n",
    "    im_list = glob.glob(os.path.join(pathname, subject_name + '_P00A*.pgm'))\n",
    "    if num_images <= len(im_list):\n",
    "        im_sub_list = np.random.choice(im_list, num_images, replace=False)\n",
    "    else:\n",
    "        print(\n",
    "            'Total available images is less than specified.\\nProceeding with %d images.\\n'\n",
    "            % len(im_list))\n",
    "        im_sub_list = im_list\n",
    "    im_sub_list.sort()\n",
    "    imarray = np.stack([load_image(fname) for fname in im_sub_list], axis=-1)\n",
    "    Ang = np.array([fname_to_ang(fname) for fname in im_sub_list])\n",
    "\n",
    "    x, y, z = sph2cart(Ang[:, 0] / 180.0 * np.pi, Ang[:, 1] / 180.0 * np.pi, 1)\n",
    "    lightdirs = np.stack([y, z, x], axis=-1)\n",
    "    return ambimage, imarray, lightdirs"
   ]
  },
  {
   "cell_type": "code",
   "execution_count": 4,
   "metadata": {},
   "outputs": [],
   "source": [
    "def save_outputs(subject_name, albedo_image, surface_normals):\n",
    "    im = Image.fromarray((albedo_image*255).astype(np.uint8))\n",
    "    im.save(\"%s_albedo.jpg\" % subject_name)\n",
    "    im = Image.fromarray((surface_normals[:,:,0]*128+128).astype(np.uint8))\n",
    "    im.save(\"%s_normals_x.jpg\" % subject_name)\n",
    "    im = Image.fromarray((surface_normals[:,:,1]*128+128).astype(np.uint8))\n",
    "    im.save(\"%s_normals_y.jpg\" % subject_name)\n",
    "    im = Image.fromarray((surface_normals[:,:,2]*128+128).astype(np.uint8))\n",
    "    im.save(\"%s_normals_z.jpg\" % subject_name)"
   ]
  },
  {
   "cell_type": "markdown",
   "metadata": {},
   "source": [
    "### Plot the height map"
   ]
  },
  {
   "cell_type": "code",
   "execution_count": 5,
   "metadata": {},
   "outputs": [],
   "source": [
    "def set_aspect_equal_3d(ax):\n",
    "    \"\"\"https://stackoverflow.com/questions/13685386\"\"\"\n",
    "    \"\"\"Fix equal aspect bug for 3D plots.\"\"\"\n",
    "    xlim = ax.get_xlim3d()\n",
    "    ylim = ax.get_ylim3d()\n",
    "    zlim = ax.get_zlim3d()\n",
    "    from numpy import mean\n",
    "    xmean = mean(xlim)\n",
    "    ymean = mean(ylim)\n",
    "    zmean = mean(zlim)\n",
    "    plot_radius = max([\n",
    "        abs(lim - mean_)\n",
    "        for lims, mean_ in ((xlim, xmean), (ylim, ymean), (zlim, zmean))\n",
    "        for lim in lims\n",
    "    ])\n",
    "    ax.set_xlim3d([xmean - plot_radius, xmean + plot_radius])\n",
    "    ax.set_ylim3d([ymean - plot_radius, ymean + plot_radius])\n",
    "    ax.set_zlim3d([zmean - plot_radius, zmean + plot_radius])\n",
    "\n",
    "\n",
    "def display_output(albedo_image, height_map):\n",
    "    fig = plt.figure()\n",
    "    plt.imshow(albedo_image, cmap='gray')\n",
    "    plt.axis('off')\n",
    "    \n",
    "    fig = plt.figure(figsize=(10, 10))\n",
    "    ax = fig.gca(projection='3d')\n",
    "    ax.view_init(20, 20)\n",
    "    X = np.arange(albedo_image.shape[0])\n",
    "    Y = np.arange(albedo_image.shape[1])\n",
    "    X, Y = np.meshgrid(Y, X)\n",
    "    H = np.flipud(np.fliplr(height_map))\n",
    "    A = np.flipud(np.fliplr(albedo_image))\n",
    "    A = np.stack([A, A, A], axis=-1)\n",
    "    ax.xaxis.set_ticks([])\n",
    "    ax.xaxis.set_label_text('Z')\n",
    "    ax.yaxis.set_ticks([])\n",
    "    ax.yaxis.set_label_text('X')\n",
    "    ax.zaxis.set_ticks([])\n",
    "    ax.yaxis.set_label_text('Y')\n",
    "    surf = ax.plot_surface(\n",
    "        H, X, Y, cmap='gray', facecolors=A, linewidth=0, antialiased=False)\n",
    "    set_aspect_equal_3d(ax)"
   ]
  },
  {
   "cell_type": "markdown",
   "metadata": {},
   "source": [
    "### Plot the surface norms. "
   ]
  },
  {
   "cell_type": "code",
   "execution_count": 6,
   "metadata": {},
   "outputs": [],
   "source": [
    "def plot_surface_normals(surface_normals):\n",
    "    \"\"\"\n",
    "    surface_normals: h x w x 3 matrix.\n",
    "    \"\"\"\n",
    "    fig = plt.figure()\n",
    "    ax = plt.subplot(1, 3, 1)\n",
    "    ax.axis('off')\n",
    "    ax.set_title('X')\n",
    "    im = ax.imshow(surface_normals[:,:,0])\n",
    "    ax = plt.subplot(1, 3, 2)\n",
    "    ax.axis('off')\n",
    "    ax.set_title('Y')\n",
    "    im = ax.imshow(surface_normals[:,:,1])\n",
    "    ax = plt.subplot(1, 3, 3)\n",
    "    ax.axis('off')\n",
    "    ax.set_title('Z')\n",
    "    im = ax.imshow(surface_normals[:,:,2])"
   ]
  },
  {
   "cell_type": "markdown",
   "metadata": {},
   "source": [
    "# Your implementation"
   ]
  },
  {
   "cell_type": "code",
   "execution_count": 7,
   "metadata": {},
   "outputs": [],
   "source": [
    "def preprocess(ambimage, imarray):\n",
    "    \"\"\"\n",
    "    preprocess the data: \n",
    "        1. subtract ambient_image from each image in imarray.\n",
    "        2. make sure no pixel is less than zero.\n",
    "        3. rescale values in imarray to be between 0 and 1.\n",
    "    Inputs:\n",
    "        ambimage: h x w\n",
    "        imarray: h x w x Nimages\n",
    "    Outputs:\n",
    "        processed_imarray: h x w x Nimages\n",
    "    \"\"\"\n",
    "    (h,w) = ambimage.shape\n",
    "    sub_imarray = imarray - ambimage.reshape(h,w,1)\n",
    "    clip_imarray = np.zeros(sub_imarray.shape)\n",
    "    np.clip(sub_imarray,0,None,out = clip_imarray)\n",
    "    imarray = clip_imarray/255.0\n",
    "    \n",
    "    return imarray"
   ]
  },
  {
   "cell_type": "code",
   "execution_count": 8,
   "metadata": {},
   "outputs": [],
   "source": [
    "def photometric_stereo(imarray, light_dirs):\n",
    "    \"\"\"\n",
    "    Inputs:\n",
    "        imarray:  h x w x Nimages\n",
    "        light_dirs: Nimages x 3\n",
    "    Outputs:\n",
    "        albedo_image: h x w\n",
    "        surface_norms: h x w x 3\n",
    "    \"\"\"\n",
    "    L = light_dirs\n",
    "    h, w, d = imarray.shape\n",
    "    Y = imarray.transpose((2,0,1))\n",
    "    Y = Y.reshape(d,h*w)\n",
    "    G = np.linalg.lstsq(L, Y)[0]\n",
    "    albedo_image = np.linalg.norm(G, axis=0)\n",
    "    surface_normals = G/albedo_image\n",
    "    albedo_image = albedo_image.reshape(h,w)\n",
    "    albedo_image = albedo_image.reshape(h,w)\n",
    "    surface_normals = surface_normals.reshape(3,h,w)\n",
    "    surface_normals = surface_normals.transpose((1,2,0))\n",
    "    return albedo_image, surface_normals"
   ]
  },
  {
   "cell_type": "code",
   "execution_count": 9,
   "metadata": {},
   "outputs": [],
   "source": [
    "def get_surface(surface_normals, integration_method):\n",
    "    \"\"\"\n",
    "    Inputs:\n",
    "        surface_normals:h x w x 3\n",
    "        integration_method: string in ['average', 'column', 'row', 'random']\n",
    "    Outputs:\n",
    "        height_map: h x w\n",
    "    \"\"\"\n",
    "   \n",
    "    x = surface_normals[:,:,0]/surface_normals[:,:,2]\n",
    "    y = surface_normals[:,:,1]/surface_normals[:,:,2]\n",
    "    height_map = np.zeros(x.shape)\n",
    "    h,w,N = surface_normals.shape\n",
    "\n",
    "    if integration_method == 'row':\n",
    "        height_map[:,0] = np.cumsum(y[:,0])\n",
    "        height_map[:,1:] = np.cumsum(x[:,1:],axis=0)\n",
    "    \n",
    "    elif integration_method == 'column':\n",
    "        height_map[0] = np.cumsum(x[0],axis=1)\n",
    "        height_map[1:,:] = np.cumsum(y[1:,:],axis=0)\n",
    "   \n",
    "    elif integration_method == 'average':\n",
    "        height_map[:,0] = np.cumsum(y[:,0])\n",
    "        height_map[:,1:] = np.cumsum(x[:,1:],axis=1)\n",
    "        height_map[1:,:] = np.cumsum(y[1:,:],axis=0)\n",
    "        height_map = height_map/2\n",
    " \n",
    "    elif integration_method == 'random':\n",
    "        for i in range (100):\n",
    "            for j in range (w):\n",
    "                for k in range (h):\n",
    "                    H,W = 0,0\n",
    "                    Exy = 0\n",
    "                    while (H<=k and W<=j):\n",
    "                        if  (H==k and W==j):\n",
    "                            break\n",
    "                        elif k==H:\n",
    "                                j+=1\n",
    "                                Exy+=height_map_column[H,W]\n",
    "                        elif j==W:\n",
    "                                k+=1\n",
    "                                Exy+=height_map_row[H,W]\n",
    "                        else:\n",
    "                            if np.random.randint(2):\n",
    "                                W += 1\n",
    "                                Exy += x[H, W]\n",
    "                            else:\n",
    "                                H += 1\n",
    "                                Exy += y[H, W]\n",
    "                    height_map[k,j]+= Exy\n",
    "        height_map = height_map/100\n",
    "        \n",
    "    return height_map"
   ]
  },
  {
   "cell_type": "markdown",
   "metadata": {},
   "source": [
    "# Main function"
   ]
  },
  {
   "cell_type": "code",
   "execution_count": 10,
   "metadata": {},
   "outputs": [
    {
     "ename": "FileNotFoundError",
     "evalue": "[Errno 2] No such file or directory: './croppedyale/yaleB05/yaleB05_P00_Ambient.pgm'",
     "output_type": "error",
     "traceback": [
      "\u001b[0;31m---------------------------------------------------------------------------\u001b[0m",
      "\u001b[0;31mFileNotFoundError\u001b[0m                         Traceback (most recent call last)",
      "\u001b[0;32m<ipython-input-10-38ee8cc0b06a>\u001b[0m in \u001b[0;36m<module>\u001b[0;34m\u001b[0m\n\u001b[1;32m      6\u001b[0m \u001b[0mfull_path\u001b[0m \u001b[0;34m=\u001b[0m \u001b[0;34m'%s%s'\u001b[0m \u001b[0;34m%\u001b[0m \u001b[0;34m(\u001b[0m\u001b[0mroot_path\u001b[0m\u001b[0;34m,\u001b[0m \u001b[0msubject_name\u001b[0m\u001b[0;34m)\u001b[0m\u001b[0;34m\u001b[0m\u001b[0;34m\u001b[0m\u001b[0m\n\u001b[1;32m      7\u001b[0m ambient_image, imarray, light_dirs = LoadFaceImages(full_path, subject_name,\n\u001b[0;32m----> 8\u001b[0;31m                                                     64)\n\u001b[0m\u001b[1;32m      9\u001b[0m \u001b[0;34m\u001b[0m\u001b[0m\n\u001b[1;32m     10\u001b[0m \u001b[0mprocessed_imarray\u001b[0m \u001b[0;34m=\u001b[0m \u001b[0mpreprocess\u001b[0m\u001b[0;34m(\u001b[0m\u001b[0mambient_image\u001b[0m\u001b[0;34m,\u001b[0m \u001b[0mimarray\u001b[0m\u001b[0;34m)\u001b[0m\u001b[0;34m\u001b[0m\u001b[0;34m\u001b[0m\u001b[0m\n",
      "\u001b[0;32m<ipython-input-3-e8cd719b1df0>\u001b[0m in \u001b[0;36mLoadFaceImages\u001b[0;34m(pathname, subject_name, num_images)\u001b[0m\n\u001b[1;32m     23\u001b[0m \u001b[0;34m\u001b[0m\u001b[0m\n\u001b[1;32m     24\u001b[0m     ambimage = load_image(\n\u001b[0;32m---> 25\u001b[0;31m         os.path.join(pathname, subject_name + '_P00_Ambient.pgm'))\n\u001b[0m\u001b[1;32m     26\u001b[0m     \u001b[0mim_list\u001b[0m \u001b[0;34m=\u001b[0m \u001b[0mglob\u001b[0m\u001b[0;34m.\u001b[0m\u001b[0mglob\u001b[0m\u001b[0;34m(\u001b[0m\u001b[0mos\u001b[0m\u001b[0;34m.\u001b[0m\u001b[0mpath\u001b[0m\u001b[0;34m.\u001b[0m\u001b[0mjoin\u001b[0m\u001b[0;34m(\u001b[0m\u001b[0mpathname\u001b[0m\u001b[0;34m,\u001b[0m \u001b[0msubject_name\u001b[0m \u001b[0;34m+\u001b[0m \u001b[0;34m'_P00A*.pgm'\u001b[0m\u001b[0;34m)\u001b[0m\u001b[0;34m)\u001b[0m\u001b[0;34m\u001b[0m\u001b[0;34m\u001b[0m\u001b[0m\n\u001b[1;32m     27\u001b[0m     \u001b[0;32mif\u001b[0m \u001b[0mnum_images\u001b[0m \u001b[0;34m<=\u001b[0m \u001b[0mlen\u001b[0m\u001b[0;34m(\u001b[0m\u001b[0mim_list\u001b[0m\u001b[0;34m)\u001b[0m\u001b[0;34m:\u001b[0m\u001b[0;34m\u001b[0m\u001b[0;34m\u001b[0m\u001b[0m\n",
      "\u001b[0;32m<ipython-input-3-e8cd719b1df0>\u001b[0m in \u001b[0;36mload_image\u001b[0;34m(fname)\u001b[0m\n\u001b[1;32m      9\u001b[0m \u001b[0;34m\u001b[0m\u001b[0m\n\u001b[1;32m     10\u001b[0m     \u001b[0;32mdef\u001b[0m \u001b[0mload_image\u001b[0m\u001b[0;34m(\u001b[0m\u001b[0mfname\u001b[0m\u001b[0;34m)\u001b[0m\u001b[0;34m:\u001b[0m\u001b[0;34m\u001b[0m\u001b[0;34m\u001b[0m\u001b[0m\n\u001b[0;32m---> 11\u001b[0;31m         \u001b[0;32mreturn\u001b[0m \u001b[0mnp\u001b[0m\u001b[0;34m.\u001b[0m\u001b[0masarray\u001b[0m\u001b[0;34m(\u001b[0m\u001b[0mImage\u001b[0m\u001b[0;34m.\u001b[0m\u001b[0mopen\u001b[0m\u001b[0;34m(\u001b[0m\u001b[0mfname\u001b[0m\u001b[0;34m)\u001b[0m\u001b[0;34m)\u001b[0m\u001b[0;34m\u001b[0m\u001b[0;34m\u001b[0m\u001b[0m\n\u001b[0m\u001b[1;32m     12\u001b[0m \u001b[0;34m\u001b[0m\u001b[0m\n\u001b[1;32m     13\u001b[0m     \u001b[0;32mdef\u001b[0m \u001b[0mfname_to_ang\u001b[0m\u001b[0;34m(\u001b[0m\u001b[0mfname\u001b[0m\u001b[0;34m)\u001b[0m\u001b[0;34m:\u001b[0m\u001b[0;34m\u001b[0m\u001b[0;34m\u001b[0m\u001b[0m\n",
      "\u001b[0;32m~/miniconda3/lib/python3.7/site-packages/PIL/Image.py\u001b[0m in \u001b[0;36mopen\u001b[0;34m(fp, mode)\u001b[0m\n\u001b[1;32m   2841\u001b[0m \u001b[0;34m\u001b[0m\u001b[0m\n\u001b[1;32m   2842\u001b[0m     \u001b[0;32mif\u001b[0m \u001b[0mfilename\u001b[0m\u001b[0;34m:\u001b[0m\u001b[0;34m\u001b[0m\u001b[0;34m\u001b[0m\u001b[0m\n\u001b[0;32m-> 2843\u001b[0;31m         \u001b[0mfp\u001b[0m \u001b[0;34m=\u001b[0m \u001b[0mbuiltins\u001b[0m\u001b[0;34m.\u001b[0m\u001b[0mopen\u001b[0m\u001b[0;34m(\u001b[0m\u001b[0mfilename\u001b[0m\u001b[0;34m,\u001b[0m \u001b[0;34m\"rb\"\u001b[0m\u001b[0;34m)\u001b[0m\u001b[0;34m\u001b[0m\u001b[0;34m\u001b[0m\u001b[0m\n\u001b[0m\u001b[1;32m   2844\u001b[0m         \u001b[0mexclusive_fp\u001b[0m \u001b[0;34m=\u001b[0m \u001b[0;32mTrue\u001b[0m\u001b[0;34m\u001b[0m\u001b[0;34m\u001b[0m\u001b[0m\n\u001b[1;32m   2845\u001b[0m \u001b[0;34m\u001b[0m\u001b[0m\n",
      "\u001b[0;31mFileNotFoundError\u001b[0m: [Errno 2] No such file or directory: './croppedyale/yaleB05/yaleB05_P00_Ambient.pgm'"
     ]
    }
   ],
   "source": [
    "root_path = './croppedyale/'\n",
    "subject_name = 'yaleB05'\n",
    "integration_method = 'random'\n",
    "save_flag = True\n",
    "\n",
    "full_path = '%s%s' % (root_path, subject_name)\n",
    "ambient_image, imarray, light_dirs = LoadFaceImages(full_path, subject_name,\n",
    "                                                    64)\n",
    "\n",
    "processed_imarray = preprocess(ambient_image, imarray)\n",
    "\n",
    "albedo_image, surface_normals = photometric_stereo(processed_imarray,\n",
    "                                                   light_dirs)\n",
    "\n",
    "height_map = get_surface(surface_normals, integration_method)\n",
    "\n",
    "if save_flag:\n",
    "    save_outputs(subject_name, albedo_image, surface_normals)"
   ]
  },
  {
   "cell_type": "code",
   "execution_count": null,
   "metadata": {},
   "outputs": [],
   "source": [
    "plot_surface_normals(surface_normals)"
   ]
  },
  {
   "cell_type": "code",
   "execution_count": null,
   "metadata": {},
   "outputs": [],
   "source": [
    "display_output(albedo_image, height_map)"
   ]
  },
  {
   "cell_type": "code",
   "execution_count": null,
   "metadata": {},
   "outputs": [],
   "source": []
  },
  {
   "cell_type": "code",
   "execution_count": null,
   "metadata": {},
   "outputs": [],
   "source": []
  },
  {
   "cell_type": "code",
   "execution_count": null,
   "metadata": {},
   "outputs": [],
   "source": []
  }
 ],
 "metadata": {
  "kernelspec": {
   "display_name": "Python 3",
   "language": "python",
   "name": "python3"
  },
  "language_info": {
   "codemirror_mode": {
    "name": "ipython",
    "version": 3
   },
   "file_extension": ".py",
   "mimetype": "text/x-python",
   "name": "python",
   "nbconvert_exporter": "python",
   "pygments_lexer": "ipython3",
   "version": "3.7.6"
  }
 },
 "nbformat": 4,
 "nbformat_minor": 2
}
