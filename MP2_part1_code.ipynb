{
 "cells": [
  {
   "cell_type": "code",
   "execution_count": 12,
   "metadata": {},
   "outputs": [],
   "source": [
    "import numpy\n",
    "from numpy.fft import fft2, ifft2, fftshift, ifftshift\n",
    "from scipy import misc\n",
    "from scipy import ndimage\n",
    "import math\n",
    "import matplotlib.pyplot as plt"
   ]
  },
  {
   "cell_type": "code",
   "execution_count": 13,
   "metadata": {},
   "outputs": [],
   "source": [
    "def scaleSpectrum(A):\n",
    "   return numpy.real(numpy.log10(numpy.absolute(A) + numpy.ones(A.shape)))"
   ]
  },
  {
   "cell_type": "code",
   "execution_count": 14,
   "metadata": {},
   "outputs": [],
   "source": [
    "def makeGaussianFilter(numRows, numCols, sigma, highPass=True):\n",
    "   centerI = int(numRows/2) + 1 if numRows % 2 == 1 else int(numRows/2)\n",
    "   centerJ = int(numCols/2) + 1 if numCols % 2 == 1 else int(numCols/2)\n",
    "\n",
    "   def gaussian(i,j):\n",
    "      coefficient = math.exp(-1.0 * ((i - centerI)**2 + (j - centerJ)**2) / (2 * sigma**2))\n",
    "      return 1 - coefficient if highPass else coefficient\n",
    "\n",
    "   return numpy.array([[gaussian(i,j) for j in range(numCols)] for i in range(numRows)])"
   ]
  },
  {
   "cell_type": "code",
   "execution_count": 15,
   "metadata": {},
   "outputs": [],
   "source": [
    "def filterDFT(imageMatrix, filterMatrix):\n",
    "   shiftedDFT = fftshift(fft2(imageMatrix))\n",
    "   filteredDFT = shiftedDFT * filterMatrix\n",
    "   \n",
    "   return ifft2(ifftshift(filteredDFT))"
   ]
  },
  {
   "cell_type": "code",
   "execution_count": 16,
   "metadata": {},
   "outputs": [],
   "source": [
    "def lowPass(imageMatrix, sigma):\n",
    "   n,m = imageMatrix.shape\n",
    "   return filterDFT(imageMatrix, makeGaussianFilter(n, m, sigma, highPass=False))"
   ]
  },
  {
   "cell_type": "code",
   "execution_count": 17,
   "metadata": {},
   "outputs": [],
   "source": [
    "def highPass(imageMatrix, sigma):\n",
    "   n,m = imageMatrix.shape\n",
    "   return filterDFT(imageMatrix, makeGaussianFilter(n, m, sigma, highPass=True))"
   ]
  },
  {
   "cell_type": "code",
   "execution_count": 25,
   "metadata": {},
   "outputs": [],
   "source": [
    "def hybridImage(highFreqImg, lowFreqImg, sigmaHigh, sigmaLow):\n",
    "   highPassed = highPass(highFreqImg, sigmaHigh)\n",
    "   lowPassed = lowPass(lowFreqImg, sigmaLow)\n",
    "\n",
    "   return highPassed + lowPassed"
   ]
  },
  {
   "cell_type": "code",
   "execution_count": 37,
   "metadata": {},
   "outputs": [
    {
     "name": "stderr",
     "output_type": "stream",
     "text": [
      "/Users/zhaoshidi/miniconda3/lib/python3.7/site-packages/ipykernel_launcher.py:2: DeprecationWarning: `imread` is deprecated!\n",
      "`imread` is deprecated in SciPy 1.0.0.\n",
      "Use ``matplotlib.pyplot.imread`` instead.\n",
      "  \n",
      "/Users/zhaoshidi/miniconda3/lib/python3.7/site-packages/ipykernel_launcher.py:3: DeprecationWarning: `imread` is deprecated!\n",
      "`imread` is deprecated in SciPy 1.0.0.\n",
      "Use ``matplotlib.pyplot.imread`` instead.\n",
      "  This is separate from the ipykernel package so we can avoid doing imports until\n",
      "/Users/zhaoshidi/miniconda3/lib/python3.7/site-packages/ipykernel_launcher.py:7: DeprecationWarning: `imsave` is deprecated!\n",
      "`imsave` is deprecated in SciPy 1.0.0, and will be removed in 1.2.0.\n",
      "Use ``imageio.imwrite`` instead.\n",
      "  import sys\n",
      "/Users/zhaoshidi/miniconda3/lib/python3.7/site-packages/ipykernel_launcher.py:8: DeprecationWarning: `imsave` is deprecated!\n",
      "`imsave` is deprecated in SciPy 1.0.0, and will be removed in 1.2.0.\n",
      "Use ``imageio.imwrite`` instead.\n",
      "  \n",
      "/Users/zhaoshidi/miniconda3/lib/python3.7/site-packages/ipykernel_launcher.py:9: DeprecationWarning: `imsave` is deprecated!\n",
      "`imsave` is deprecated in SciPy 1.0.0, and will be removed in 1.2.0.\n",
      "Use ``imageio.imwrite`` instead.\n",
      "  if __name__ == '__main__':\n",
      "/Users/zhaoshidi/miniconda3/lib/python3.7/site-packages/ipykernel_launcher.py:10: DeprecationWarning: `imsave` is deprecated!\n",
      "`imsave` is deprecated in SciPy 1.0.0, and will be removed in 1.2.0.\n",
      "Use ``imageio.imwrite`` instead.\n",
      "  # Remove the CWD from sys.path while we load stuff.\n",
      "/Users/zhaoshidi/miniconda3/lib/python3.7/site-packages/ipykernel_launcher.py:14: DeprecationWarning: `imread` is deprecated!\n",
      "`imread` is deprecated in SciPy 1.0.0.\n",
      "Use ``matplotlib.pyplot.imread`` instead.\n",
      "  \n",
      "/Users/zhaoshidi/miniconda3/lib/python3.7/site-packages/ipykernel_launcher.py:15: DeprecationWarning: `imread` is deprecated!\n",
      "`imread` is deprecated in SciPy 1.0.0.\n",
      "Use ``matplotlib.pyplot.imread`` instead.\n",
      "  from ipykernel import kernelapp as app\n",
      "/Users/zhaoshidi/miniconda3/lib/python3.7/site-packages/ipykernel_launcher.py:19: DeprecationWarning: `imsave` is deprecated!\n",
      "`imsave` is deprecated in SciPy 1.0.0, and will be removed in 1.2.0.\n",
      "Use ``imageio.imwrite`` instead.\n",
      "/Users/zhaoshidi/miniconda3/lib/python3.7/site-packages/ipykernel_launcher.py:20: DeprecationWarning: `imsave` is deprecated!\n",
      "`imsave` is deprecated in SciPy 1.0.0, and will be removed in 1.2.0.\n",
      "Use ``imageio.imwrite`` instead.\n",
      "/Users/zhaoshidi/miniconda3/lib/python3.7/site-packages/ipykernel_launcher.py:21: DeprecationWarning: `imsave` is deprecated!\n",
      "`imsave` is deprecated in SciPy 1.0.0, and will be removed in 1.2.0.\n",
      "Use ``imageio.imwrite`` instead.\n",
      "/Users/zhaoshidi/miniconda3/lib/python3.7/site-packages/ipykernel_launcher.py:22: DeprecationWarning: `imsave` is deprecated!\n",
      "`imsave` is deprecated in SciPy 1.0.0, and will be removed in 1.2.0.\n",
      "Use ``imageio.imwrite`` instead.\n",
      "/Users/zhaoshidi/miniconda3/lib/python3.7/site-packages/ipykernel_launcher.py:26: DeprecationWarning: `imread` is deprecated!\n",
      "`imread` is deprecated in SciPy 1.0.0.\n",
      "Use ``matplotlib.pyplot.imread`` instead.\n",
      "/Users/zhaoshidi/miniconda3/lib/python3.7/site-packages/ipykernel_launcher.py:27: DeprecationWarning: `imread` is deprecated!\n",
      "`imread` is deprecated in SciPy 1.0.0.\n",
      "Use ``matplotlib.pyplot.imread`` instead.\n",
      "/Users/zhaoshidi/miniconda3/lib/python3.7/site-packages/ipykernel_launcher.py:31: DeprecationWarning: `imsave` is deprecated!\n",
      "`imsave` is deprecated in SciPy 1.0.0, and will be removed in 1.2.0.\n",
      "Use ``imageio.imwrite`` instead.\n",
      "/Users/zhaoshidi/miniconda3/lib/python3.7/site-packages/ipykernel_launcher.py:32: DeprecationWarning: `imsave` is deprecated!\n",
      "`imsave` is deprecated in SciPy 1.0.0, and will be removed in 1.2.0.\n",
      "Use ``imageio.imwrite`` instead.\n",
      "/Users/zhaoshidi/miniconda3/lib/python3.7/site-packages/ipykernel_launcher.py:33: DeprecationWarning: `imsave` is deprecated!\n",
      "`imsave` is deprecated in SciPy 1.0.0, and will be removed in 1.2.0.\n",
      "Use ``imageio.imwrite`` instead.\n",
      "/Users/zhaoshidi/miniconda3/lib/python3.7/site-packages/ipykernel_launcher.py:34: DeprecationWarning: `imsave` is deprecated!\n",
      "`imsave` is deprecated in SciPy 1.0.0, and will be removed in 1.2.0.\n",
      "Use ``imageio.imwrite`` instead.\n"
     ]
    }
   ],
   "source": [
    "if __name__ == \"__main__\":\n",
    "   c1 = ndimage.imread(\"c1.jpg\", flatten=True)\n",
    "   c2 = ndimage.imread(\"c2.jpg\", flatten=True)\n",
    "   hybrid = hybridImage(c1, c2, 10, 25)\n",
    "   highPassed_c1= highPass(c1, 20)\n",
    "   lowPassed_c2 = lowPass(c2, 20)\n",
    "   misc.imsave(\"hybrid-test.jpg\", numpy.real(hybrid))\n",
    "   misc.imsave(\"low-passed-c2.jpg\", numpy.real(lowPassed_c2))\n",
    "   misc.imsave(\"high-passed-c1.jpg\", numpy.real(highPassed_c1))\n",
    "   misc.imsave(\"sum-of-c2.jpg\", numpy.real((highPassed_c1 + lowPassed_c2)/2.0))\n",
    "\n",
    "    \n",
    "    \n",
    "   cat = ndimage.imread(\"cat.bmp\", flatten=True)\n",
    "   dog = ndimage.imread(\"dog.bmp\", flatten=True)\n",
    "   hybrid = hybridImage(cat, dog, 25, 10)\n",
    "   highPassed_c2= highPass(cat, 25)\n",
    "   lowPassed_c1 = lowPass(dog, 10)\n",
    "   misc.imsave(\"hybrid2.jpg\", numpy.real(hybrid))\n",
    "   misc.imsave(\"low-passed-dog.jpg\", numpy.real(lowPassed_c1))\n",
    "   misc.imsave(\"high-passed-cat.jpg\", numpy.real(highPassed_c2))\n",
    "   misc.imsave(\"sum-of-dog.jpg\", numpy.real((highPassed_c2 + lowPassed_c1)/2.0))\n",
    "\n",
    "\n",
    "\n",
    "   bike = ndimage.imread(\"bicycle.bmp\", flatten=True)\n",
    "   moto = ndimage.imread(\"motorcycle.bmp\", flatten=True)\n",
    "   hybrid = hybridImage(bike, moto, 25, 10)\n",
    "   highPassed_c1= highPass(bike, 25)\n",
    "   lowPassed_c2 = lowPass(moto, 10)\n",
    "   misc.imsave(\"hybrid3.jpg\", numpy.real(hybrid))\n",
    "   misc.imsave(\"low-passed-moto.jpg\", numpy.real(lowPassed_c2))\n",
    "   misc.imsave(\"high-passed-bike.jpg\", numpy.real(highPassed_c1))\n",
    "   misc.imsave(\"sum-of-moto.jpg\", numpy.real((highPassed_c1 + lowPassed_c2)/2.0))\n"
   ]
  },
  {
   "cell_type": "code",
   "execution_count": null,
   "metadata": {},
   "outputs": [],
   "source": []
  },
  {
   "cell_type": "code",
   "execution_count": null,
   "metadata": {},
   "outputs": [],
   "source": []
  },
  {
   "cell_type": "code",
   "execution_count": null,
   "metadata": {},
   "outputs": [],
   "source": []
  }
 ],
 "metadata": {
  "kernelspec": {
   "display_name": "Python 3",
   "language": "python",
   "name": "python3"
  },
  "language_info": {
   "codemirror_mode": {
    "name": "ipython",
    "version": 3
   },
   "file_extension": ".py",
   "mimetype": "text/x-python",
   "name": "python",
   "nbconvert_exporter": "python",
   "pygments_lexer": "ipython3",
   "version": "3.7.0"
  }
 },
 "nbformat": 4,
 "nbformat_minor": 2
}
